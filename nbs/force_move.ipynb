{
 "cells": [
  {
   "cell_type": "code",
   "execution_count": 8,
   "id": "sustained-grocery",
   "metadata": {},
   "outputs": [],
   "source": [
    "import urx\n",
    "import numpy as np"
   ]
  },
  {
   "cell_type": "code",
   "execution_count": 9,
   "id": "polished-blackberry",
   "metadata": {},
   "outputs": [
    {
     "name": "stderr",
     "output_type": "stream",
     "text": [
      "tried 11 times to find a packet in data, advertised packet size: -2, type: 3\n",
      "Data length: 44\n",
      "tried 11 times to find a packet in data, advertised packet size: -2, type: 3\n",
      "Data length: 68\n",
      "tried 11 times to find a packet in data, advertised packet size: -2, type: 3\n",
      "Data length: 1092\n",
      "tried 11 times to find a packet in data, advertised packet size: -2, type: 3\n",
      "Data length: 1454\n"
     ]
    }
   ],
   "source": [
    "rob = urx.Robot('192.168.1.5')"
   ]
  },
  {
   "cell_type": "code",
   "execution_count": null,
   "id": "appropriate-vessel",
   "metadata": {},
   "outputs": [],
   "source": [
    "for i in range(20):\n",
    "\n",
    "    act_pose = rob.get_pose()\n",
    "    act_pose.set_pos(act_pose.get_pos()[:] + np.array([0 , 0 , +0.05]))\n",
    "    rob.set_pose(act_pose)\n",
    "\n",
    "    force_traj = list()\n",
    "    act_pose = rob.get_pose()\n",
    "    act_pose.set_pos(act_pose.get_pos()[:] + np.array([0 , 0 , +0.05]))\n",
    "    force_traj.append(act_pose.get_pose_vector())\n",
    "\n",
    "    rob.execute_in_force_mode(force_traj)"
   ]
  },
  {
   "cell_type": "code",
   "execution_count": null,
   "id": "balanced-advantage",
   "metadata": {},
   "outputs": [],
   "source": []
  },
  {
   "cell_type": "code",
   "execution_count": null,
   "id": "great-maple",
   "metadata": {},
   "outputs": [],
   "source": []
  },
  {
   "cell_type": "code",
   "execution_count": null,
   "id": "statewide-taiwan",
   "metadata": {},
   "outputs": [],
   "source": []
  },
  {
   "cell_type": "code",
   "execution_count": null,
   "id": "blank-tribe",
   "metadata": {},
   "outputs": [],
   "source": []
  },
  {
   "cell_type": "code",
   "execution_count": null,
   "id": "iraqi-permit",
   "metadata": {},
   "outputs": [],
   "source": []
  },
  {
   "cell_type": "code",
   "execution_count": null,
   "id": "japanese-front",
   "metadata": {},
   "outputs": [],
   "source": []
  }
 ],
 "metadata": {
  "kernelspec": {
   "display_name": "Python 3",
   "language": "python",
   "name": "python3"
  },
  "language_info": {
   "codemirror_mode": {
    "name": "ipython",
    "version": 3
   },
   "file_extension": ".py",
   "mimetype": "text/x-python",
   "name": "python",
   "nbconvert_exporter": "python",
   "pygments_lexer": "ipython3",
   "version": "3.8.5"
  }
 },
 "nbformat": 4,
 "nbformat_minor": 5
}
